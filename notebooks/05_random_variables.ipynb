{
 "cells": [
  {
   "cell_type": "code",
   "execution_count": 2,
   "metadata": {},
   "outputs": [],
   "source": [
    "import numpy as np\n",
    "import matplotlib.pyplot as plt\n",
    "import pandas as pd\n",
    "import random"
   ]
  },
  {
   "cell_type": "markdown",
   "metadata": {},
   "source": [
    "1) Hay una ruleta en un casino. Laruleta tiene 18 espacios rojos, 18 espacios negros y 2 espacios verdes.\n",
    "- Al girar la ruleta si sale rojo, el apostador gana $1, caso contrario el apostador pierde un dolar.\n",
    "- Desde la vista del casino si sale rojo el casino pierde $1y caso contrario el casino gana $1. "
   ]
  },
  {
   "cell_type": "code",
   "execution_count": null,
   "metadata": {},
   "outputs": [],
   "source": [
    "ruleta = [\"rojo\"]*18 + [\"negro\"]*18 + [\"verde\"]*2"
   ]
  },
  {
   "cell_type": "code",
   "execution_count": 69,
   "metadata": {},
   "outputs": [
    {
     "name": "stdout",
     "output_type": "stream",
     "text": [
      "El casino ganó $48.\n"
     ]
    }
   ],
   "source": [
    "casino_gana = 0\n",
    "intentos = 1000\n",
    "for i in range(intentos):\n",
    "    intentos = random.choice(ruleta)\n",
    "\n",
    "    if intentos == \"rojo\":\n",
    "        casino_gana -= 1\n",
    "    else:\n",
    "        casino_gana += 1\n",
    "\n",
    "if casino_gana > 0:\n",
    "    print(f\"El casino ganó ${casino_gana}.\")\n",
    "elif casino_gana < 0:\n",
    "    print(f\"El casino perdió ${casino_gana}.\")\n",
    "else:\n",
    "    print(\"El casino y el apostador empataron.\")"
   ]
  },
  {
   "cell_type": "code",
   "execution_count": 90,
   "metadata": {},
   "outputs": [],
   "source": [
    "def roullete_spin(spins=1000, roullete=ruleta):\n",
    "    earnings=0\n",
    "    for _ in range(spins):\n",
    "        result = random.choice(roullete)\n",
    "        if result == \"rojo\":\n",
    "            earnings -= 1\n",
    "        else:\n",
    "            earnings += 1\n",
    "    return earnings"
   ]
  },
  {
   "cell_type": "code",
   "execution_count": 91,
   "metadata": {},
   "outputs": [
    {
     "data": {
      "text/plain": [
       "70"
      ]
     },
     "execution_count": 91,
     "metadata": {},
     "output_type": "execute_result"
    }
   ],
   "source": [
    "roullete_spin()"
   ]
  },
  {
   "cell_type": "code",
   "execution_count": 99,
   "metadata": {},
   "outputs": [],
   "source": [
    "#Sampling model\n",
    "samplings = []\n",
    "for _ in range(100000):\n",
    "    samplings.append(roullete_spin()) #Lista donde se almacenan los resultados"
   ]
  },
  {
   "cell_type": "code",
   "execution_count": 100,
   "metadata": {},
   "outputs": [
    {
     "data": {
      "image/png": "[encoded data removed]",
      "text/plain": [
       "<Figure size 640x480 with 1 Axes>"
      ]
     },
     "metadata": {},
     "output_type": "display_data"
    }
   ],
   "source": [
    "plt.hist(samplings,bins=20)\n",
    "plt.grid()\n",
    "plt.show()"
   ]
  },
  {
   "cell_type": "code",
   "execution_count": 101,
   "metadata": {},
   "outputs": [
    {
     "data": {
      "text/plain": [
       "np.float64(31.472119717051157)"
      ]
     },
     "execution_count": 101,
     "metadata": {},
     "output_type": "execute_result"
    }
   ],
   "source": [
    "#standard error\n",
    "std = np.std(samplings)\n",
    "std"
   ]
  },
  {
   "cell_type": "code",
   "execution_count": 102,
   "metadata": {},
   "outputs": [
    {
     "data": {
      "text/plain": [
       "100000"
      ]
     },
     "execution_count": 102,
     "metadata": {},
     "output_type": "execute_result"
    }
   ],
   "source": [
    "n = len(samplings)\n",
    "n"
   ]
  },
  {
   "cell_type": "code",
   "execution_count": 103,
   "metadata": {},
   "outputs": [
    {
     "data": {
      "text/plain": [
       "np.float64(0.09952358109937565)"
      ]
     },
     "execution_count": 103,
     "metadata": {},
     "output_type": "execute_result"
    }
   ],
   "source": [
    "std/np.sqrt(n)"
   ]
  }
 ],
 "metadata": {
  "kernelspec": {
   "display_name": ".venv",
   "language": "python",
   "name": "python3"
  },
  "language_info": {
   "codemirror_mode": {
    "name": "ipython",
    "version": 3
   },
   "file_extension": ".py",
   "mimetype": "text/x-python",
   "name": "python",
   "nbconvert_exporter": "python",
   "pygments_lexer": "ipython3",
   "version": "3.12.1"
  }
 },
 "nbformat": 4,
 "nbformat_minor": 2
}
