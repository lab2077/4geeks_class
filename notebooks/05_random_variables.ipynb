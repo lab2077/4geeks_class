{
 "cells": [
  {
   "cell_type": "code",
   "execution_count": 2,
   "metadata": {},
   "outputs": [],
   "source": [
    "import numpy as np\n",
    "import matplotlib.pyplot as plt\n",
    "import pandas as pd\n",
    "import random"
   ]
  },
  {
   "cell_type": "markdown",
   "metadata": {},
   "source": [
    "1) Hay una ruleta en un casino. Laruleta tiene 18 espacios rojos, 18 espacios negros y 2 espacios verdes.\n",
    "- Al girar la ruleta si sale rojo, el apostador gana $1, caso contrario el apostador pierde un dolar.\n",
    "- Desde la vista del casino si sale rojo el casino pierde $1y caso contrario el casino gana $1. "
   ]
  },
  {
   "cell_type": "code",
   "execution_count": null,
   "metadata": {},
   "outputs": [],
   "source": [
    "ruleta = [\"rojo\"]*18 + [\"negro\"]*18 + [\"verde\"]*2"
   ]
  },
  {
   "cell_type": "code",
   "execution_count": 54,
   "metadata": {},
   "outputs": [
    {
     "name": "stdout",
     "output_type": "stream",
     "text": [
      "El casino ganó $30.\n"
     ]
    }
   ],
   "source": [
    "casino_gana = 0\n",
    "intentos = 1000\n",
    "for i in range(intentos):\n",
    "    intentos = random.choice(ruleta)\n",
    "\n",
    "    if intentos == \"rojo\":\n",
    "        casino_gana -= 1\n",
    "    else:\n",
    "        casino_gana += 1\n",
    "\n",
    "if casino_gana > 0:\n",
    "    print(f\"El casino ganó ${casino_gana}.\")\n",
    "elif casino_gana < 0:\n",
    "    print(f\"El apostador ganó ${-casino_gana}.\")\n",
    "else:\n",
    "    print(\"El casino y el apostador empataron.\")"
   ]
  }
 ],
 "metadata": {
  "kernelspec": {
   "display_name": ".venv",
   "language": "python",
   "name": "python3"
  },
  "language_info": {
   "codemirror_mode": {
    "name": "ipython",
    "version": 3
   },
   "file_extension": ".py",
   "mimetype": "text/x-python",
   "name": "python",
   "nbconvert_exporter": "python",
   "pygments_lexer": "ipython3",
   "version": "3.12.1"
  }
 },
 "nbformat": 4,
 "nbformat_minor": 2
}
