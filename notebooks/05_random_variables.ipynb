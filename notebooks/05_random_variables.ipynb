{
 "cells": [
  {
   "cell_type": "code",
   "execution_count": 7,
   "metadata": {},
   "outputs": [],
   "source": [
    "import numpy as np\n",
    "import matplotlib.pyplot as plt\n",
    "import pandas as pd\n",
    "import random"
   ]
  },
  {
   "cell_type": "markdown",
   "metadata": {},
   "source": [
    "1) Hay una ruleta en un casino. Laruleta tiene 18 espacios rojos, 18 espacios negros y 2 espacios verdes.\n",
    "- Al girar la ruleta si sale rojo, el apostador gana $1, caso contrario el apostador pierde un dolar.\n",
    "- Desde la vista del casino si sale rojo el casino pierde $1y caso contrario el casino gana $1. "
   ]
  },
  {
   "cell_type": "code",
   "execution_count": 6,
   "metadata": {},
   "outputs": [
    {
     "data": {
      "text/plain": [
       "['rojo',\n",
       " 'rojo',\n",
       " 'rojo',\n",
       " 'rojo',\n",
       " 'rojo',\n",
       " 'rojo',\n",
       " 'rojo',\n",
       " 'rojo',\n",
       " 'rojo',\n",
       " 'rojo',\n",
       " 'rojo',\n",
       " 'rojo',\n",
       " 'rojo',\n",
       " 'rojo',\n",
       " 'rojo',\n",
       " 'rojo',\n",
       " 'rojo',\n",
       " 'rojo',\n",
       " 'negro',\n",
       " 'negro',\n",
       " 'negro',\n",
       " 'negro',\n",
       " 'negro',\n",
       " 'negro',\n",
       " 'negro',\n",
       " 'negro',\n",
       " 'negro',\n",
       " 'negro',\n",
       " 'negro',\n",
       " 'negro',\n",
       " 'negro',\n",
       " 'negro',\n",
       " 'negro',\n",
       " 'negro',\n",
       " 'negro',\n",
       " 'negro',\n",
       " 'verde',\n",
       " 'verde']"
      ]
     },
     "execution_count": 6,
     "metadata": {},
     "output_type": "execute_result"
    }
   ],
   "source": [
    "ruleta = [\"rojo\"]*18 + [\"negro\"]*18 + [\"verde\"]*2\n",
    "ruleta"
   ]
  },
  {
   "cell_type": "code",
   "execution_count": 12,
   "metadata": {},
   "outputs": [
    {
     "name": "stdout",
     "output_type": "stream",
     "text": [
      "28\n"
     ]
    }
   ],
   "source": [
    "dinero_casino = 0\n",
    "for i in range(1000):\n",
    "    giros = random.choice(ruleta)\n",
    "\n",
    "    if giros == \"rojo\":\n",
    "        dinero_casino -= 1\n",
    "    else:\n",
    "        dinero_casino += 1\n",
    "\n",
    "print(dinero_casino)"
   ]
  }
 ],
 "metadata": {
  "kernelspec": {
   "display_name": ".venv",
   "language": "python",
   "name": "python3"
  },
  "language_info": {
   "codemirror_mode": {
    "name": "ipython",
    "version": 3
   },
   "file_extension": ".py",
   "mimetype": "text/x-python",
   "name": "python",
   "nbconvert_exporter": "python",
   "pygments_lexer": "ipython3",
   "version": "3.12.1"
  }
 },
 "nbformat": 4,
 "nbformat_minor": 2
}
